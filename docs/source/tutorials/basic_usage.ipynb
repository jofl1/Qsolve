{
 "cells": [
  {
   "cell_type": "markdown",
   "id": "5156c6e4",
   "metadata": {},
   "source": [
    "# Basic Usage\n",
    "This tutorial shows how to solve the ground state and a few excited states using Qsolve."
   ]
  },
  {
   "cell_type": "code",
   "execution_count": null,
   "id": "215060bf",
   "metadata": {},
   "outputs": [],
   "source": [
    "import Qsolve"
   ]
  },
  {
   "cell_type": "markdown",
   "id": "4be91db8",
   "metadata": {},
   "source": [
    "## Ground state"
   ]
  },
  {
   "cell_type": "code",
   "execution_count": null,
   "id": "8c8137db",
   "metadata": {},
   "outputs": [],
   "source": [
    "result = Qsolve.solve_quick(\"hydrogen\")\n",
    "print(f\"Ground state energy: {result.energy:.6f}\")"
   ]
  },
  {
   "cell_type": "markdown",
   "id": "fca8de3e",
   "metadata": {},
   "source": [
    "## Multiple states"
   ]
  },
  {
   "cell_type": "code",
   "execution_count": null,
   "id": "dde564bc",
   "metadata": {},
   "outputs": [],
   "source": [
    "res = Qsolve.solve_quick(\"harmonic\", n_states=3, grid_points=201)\n",
    "print(res.energies)"
   ]
  },
  {
   "cell_type": "markdown",
   "id": "94beb20e",
   "metadata": {},
   "source": [
    "You can access wavefunctions via `res.wavefunctions` and plot them with `res.plot()`."
   ]
  }
 ],
 "metadata": {},
 "nbformat": 4,
 "nbformat_minor": 5
}
