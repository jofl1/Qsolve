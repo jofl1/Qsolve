{
 "cells": [
  {
   "cell_type": "markdown",
   "id": "3a49ae41",
   "metadata": {},
   "source": [
    "# Time Evolution\n",
    "Demonstrate evolving a Gaussian wave packet."
   ]
  },
  {
   "cell_type": "code",
   "execution_count": null,
   "id": "f5b0c0f5",
   "metadata": {},
   "outputs": [],
   "source": [
    "import Qsolve"
   ]
  },
  {
   "cell_type": "code",
   "execution_count": null,
   "id": "8b83ebc3",
   "metadata": {},
   "outputs": [],
   "source": [
    "system = Qsolve.System.create(\"harmonic\", grid_points=101)"
   ]
  },
  {
   "cell_type": "code",
   "execution_count": null,
   "id": "7f7c41fd",
   "metadata": {},
   "outputs": [],
   "source": [
    "psi0 = Qsolve.gaussian_wave_packet(system.grid, x0=1.0)"
   ]
  },
  {
   "cell_type": "markdown",
   "id": "d04fe5cb",
   "metadata": {},
   "source": [
    "Evolve the system for a short time span."
   ]
  },
  {
   "cell_type": "code",
   "execution_count": null,
   "id": "d1fed224",
   "metadata": {},
   "outputs": [],
   "source": [
    "res = Qsolve.evolve_wavefunction(system, psi0, (0, 1), dt=0.1)\n",
    "print(\"Steps:\", len(res.times))"
   ]
  }
 ],
 "metadata": {},
 "nbformat": 4,
 "nbformat_minor": 5
}
