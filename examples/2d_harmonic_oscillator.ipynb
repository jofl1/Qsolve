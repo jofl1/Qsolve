{
 "cells": [
  {
   "cell_type": "markdown",
   "metadata": {},
   "source": ["# 2D Harmonic Oscillator\n",
            "Demonstration of solving the 2D harmonic oscillator using Qsolve."]
  },
  {
   "cell_type": "code",
   "metadata": {},
   "source": ["import numpy as np\n",
            "import Qsolve\n",
            "\n",
            "grid = Qsolve.Grid2D(shape=(32, 32), bounds=((-4, 4), (-4, 4)))\n",
            "system = Qsolve.System(grid=grid, potential=lambda x, y: 0.5 * (x**2 + y**2))\n",
            "\n",
            "result = Qsolve.solve_ground_state(system, method='dense')\n",
            "print('Ground state energy:', result.energy)\n"]
  }
 ],
 "metadata": {
  "kernelspec": {
   "display_name": "Python 3",
   "language": "python",
   "name": "python3"
  },
  "language_info": {
   "name": "python",
   "version": "3.10"
  }
 },
 "nbformat": 4,
 "nbformat_minor": 5
}
