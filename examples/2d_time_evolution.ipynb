{
 "cells": [
  {
   "cell_type": "markdown",
   "metadata": {},
   "source": ["# 2D Time Evolution\n",
            "Propagation of a Gaussian packet in a 2D harmonic potential."]
  },
  {
   "cell_type": "code",
   "metadata": {},
   "source": ["import numpy as np\n",
            "import Qsolve\n",
            "\n",
            "grid = Qsolve.Grid2D(shape=(32, 32), bounds=((-5, 5), (-5, 5)))\n",
            "system = Qsolve.System(grid=grid, potential=lambda x, y: 0.5*(x**2 + y**2))\n",
            "\n",
            "X, Y = grid.coordinates()\n",
            "psi0 = np.exp(-((X-1)**2 + Y**2))\n",
            "psi0 = Qsolve.normalize_wavefunction(psi0, grid)\n",
            "result = Qsolve.evolve_wavefunction(system, psi0, (0, 0.1), dt=0.01)\n",
            "print('Steps:', result.n_times)"]
  }
 ],
 "metadata": {
  "kernelspec": {
   "display_name": "Python 3",
   "language": "python",
   "name": "python3"
  },
  "language_info": {
   "name": "python",
   "version": "3.10"
  }
 },
 "nbformat": 4,
 "nbformat_minor": 5
}
